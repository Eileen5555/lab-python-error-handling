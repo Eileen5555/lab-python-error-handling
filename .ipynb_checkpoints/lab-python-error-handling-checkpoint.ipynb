{
 "cells": [
  {
   "cell_type": "markdown",
   "id": "25d7736c-ba17-4aff-b6bb-66eba20fbf4e",
   "metadata": {},
   "source": [
    "# Lab | Error Handling"
   ]
  },
  {
   "cell_type": "markdown",
   "id": "bc99b386-7508-47a0-bcdb-d969deaf6c8b",
   "metadata": {},
   "source": [
    "## Exercise: Error Handling for Managing Customer Orders\n",
    "\n",
    "The implementation of your code for managing customer orders assumes that the user will always enter a valid input. \n",
    "\n",
    "For example, we could modify the `initialize_inventory` function to include error handling.\n",
    "   - If the user enters an invalid quantity (e.g., a negative value or a non-numeric value), display an error message and ask them to re-enter the quantity for that product.\n",
    "   - Use a try-except block to handle the error and continue prompting the user until a valid quantity is entered.\n",
    "\n",
    "```python\n",
    "# Step 1: Define the function for initializing the inventory with error handling\n",
    "def initialize_inventory(products):\n",
    "    inventory = {}\n",
    "    for product in products:\n",
    "        valid_quantity = False\n",
    "        while not valid_quantity:\n",
    "            try:\n",
    "                quantity = int(input(f\"Enter the quantity of {product}s available: \"))\n",
    "                if quantity < 0:\n",
    "                    raise ValueError(\"Invalid quantity! Please enter a non-negative value.\")\n",
    "                valid_quantity = True\n",
    "            except ValueError as error:\n",
    "                print(f\"Error: {error}\")\n",
    "        inventory[product] = quantity\n",
    "    return inventory\n",
    "\n",
    "# Or, in another way:\n",
    "\n",
    "def initialize_inventory(products):\n",
    "    inventory = {}\n",
    "    for product in products:\n",
    "        valid_input = False\n",
    "        while not valid_input:\n",
    "            try:\n",
    "                quantity = int(input(f\"Enter the quantity of {product}s available: \"))\n",
    "                if quantity >= 0:\n",
    "                    inventory[product] = quantity\n",
    "                    valid_input = True\n",
    "                else:\n",
    "                    print(\"Quantity cannot be negative. Please enter a valid quantity.\")\n",
    "            except ValueError:\n",
    "                print(\"Invalid input. Please enter a valid quantity.\")\n",
    "    return inventory\n",
    "```\n",
    "\n",
    "Let's enhance your code by implementing error handling to handle invalid inputs.\n",
    "\n",
    "Follow the steps below to complete the exercise:\n",
    "\n",
    "2. Modify the `calculate_total_price` function to include error handling.\n",
    "   - If the user enters an invalid price (e.g., a negative value or a non-numeric value), display an error message and ask them to re-enter the price for that product.\n",
    "   - Use a try-except block to handle the error and continue prompting the user until a valid price is entered.\n",
    "\n",
    "3. Modify the `get_customer_orders` function to include error handling.\n",
    "   - If the user enters an invalid number of orders (e.g., a negative value or a non-numeric value), display an error message and ask them to re-enter the number of orders.\n",
    "   - If the user enters an invalid product name (e.g., a product name that is not in the inventory), or that doesn't have stock available, display an error message and ask them to re-enter the product name. *Hint: you will need to pass inventory as a parameter*\n",
    "   - Use a try-except block to handle the error and continue prompting the user until a valid product name is entered.\n",
    "\n",
    "4. Test your code by running the program and deliberately entering invalid quantities and product names. Make sure the error handling mechanism works as expected.\n"
   ]
  },
  {
   "cell_type": "code",
   "execution_count": 68,
   "id": "5926f875-8914-4ccc-b16e-c37f06f8ffa2",
   "metadata": {},
   "outputs": [
    {
     "name": "stdin",
     "output_type": "stream",
     "text": [
      "Enter the quantity of t-shirts available:  -5\n"
     ]
    },
    {
     "name": "stdout",
     "output_type": "stream",
     "text": [
      "Invalid input. Please enter a valid quantity.\n"
     ]
    },
    {
     "name": "stdin",
     "output_type": "stream",
     "text": [
      "Enter the quantity of t-shirts available:  5\n",
      "Enter the quantity of mugs available:  5\n",
      "Enter the quantity of hats available:  5\n",
      "Enter the quantity of books available:  5\n",
      "Enter the quantity of keychains available:  5\n",
      "Enter number of customer orders: 5\n"
     ]
    },
    {
     "name": "stdout",
     "output_type": "stream",
     "text": [
      "number of customer orders:  5\n"
     ]
    },
    {
     "name": "stdin",
     "output_type": "stream",
     "text": [
      "Enter the name of a product you want to order:  5\n"
     ]
    },
    {
     "name": "stdout",
     "output_type": "stream",
     "text": [
      "Invalid product! Please choose from: ['t-shirt', 'mug', 'hat', 'book', 'keychain']\n"
     ]
    },
    {
     "name": "stdin",
     "output_type": "stream",
     "text": [
      "Enter the name of a product you want to order:  mug\n",
      "Do you want to order another product? (yes/no):  hat\n"
     ]
    },
    {
     "name": "stdout",
     "output_type": "stream",
     "text": [
      "Invalid input! Please answer 'yes' or 'no'.\n"
     ]
    },
    {
     "name": "stdin",
     "output_type": "stream",
     "text": [
      "Do you want to order another product? (yes/no):  yes\n",
      "Enter the name of a product you want to order:  hat\n",
      "Do you want to order another product? (yes/no):  no\n"
     ]
    },
    {
     "name": "stdout",
     "output_type": "stream",
     "text": [
      "\n",
      "Thank you for your order\n"
     ]
    },
    {
     "name": "stdin",
     "output_type": "stream",
     "text": [
      "Enter the price of mug:  -5\n"
     ]
    },
    {
     "name": "stdout",
     "output_type": "stream",
     "text": [
      "Please enter a positive numerical value\n"
     ]
    },
    {
     "name": "stdin",
     "output_type": "stream",
     "text": [
      "Enter the price of mug:  k\n"
     ]
    },
    {
     "name": "stdout",
     "output_type": "stream",
     "text": [
      "Please enter a positive numerical value\n"
     ]
    },
    {
     "name": "stdin",
     "output_type": "stream",
     "text": [
      "Enter the price of mug:  5\n",
      "Enter the price of hat:  -5\n"
     ]
    },
    {
     "name": "stdout",
     "output_type": "stream",
     "text": [
      "Please enter a positive numerical value\n"
     ]
    },
    {
     "name": "stdin",
     "output_type": "stream",
     "text": [
      "Enter the price of mug:  5\n",
      "Enter the price of hat:  5\n"
     ]
    },
    {
     "name": "stdout",
     "output_type": "stream",
     "text": [
      "\n",
      "Customer orders number: 5\n",
      "{'mug': 5.0, 'hat': 5.0}\n",
      "Total price: 10.0\n",
      "\n",
      "Order Statistics:\n",
      "Total Products Ordered: 2\n",
      "Percentage of Products Ordered: 40.0 %\n",
      "\n",
      "Updated Inventory:\n",
      "t-shirt : 5\n",
      "mug : 4\n",
      "hat : 4\n",
      "book : 5\n",
      "keychain : 5\n"
     ]
    }
   ],
   "source": [
    "products = [\"t-shirt\", \"mug\", \"hat\", \"book\", \"keychain\"]\n",
    "\n",
    "def initialize_inventory(products):\n",
    "    inventory = {}\n",
    "    for product in products:\n",
    "        valid_quantity = False\n",
    "        while not valid_quantity:\n",
    "            try:\n",
    "                quantity = int(input(f\"Enter the quantity of {product}s available: \"))\n",
    "                inventory[product] = quantity\n",
    "                while quantity < 0:\n",
    "                    raise ValueError\n",
    "                valid_quantity = True\n",
    "                \n",
    "            except ValueError:\n",
    "                print(\"Invalid input. Please enter a valid quantity.\")\n",
    "    return inventory\n",
    "\n",
    "\n",
    "\n",
    "\n",
    "def get_customer_orders(inventory):\n",
    "    valid_num= False\n",
    "    while not valid_num:\n",
    "        try:\n",
    "            num_costumer_order = int(input(\"Enter number of customer orders:\"))\n",
    "            while num_costumer_order < 0:\n",
    "                raise ValueError\n",
    "            valid_num= True\n",
    "        except ValueError:\n",
    "            print (\" please enter a positive numerical value\")\n",
    "            \n",
    "    print(\"number of customer orders: \",num_costumer_order)\n",
    "    customer_orders = set()\n",
    "    for product in inventory:\n",
    "        valid_product= False\n",
    "        try: \n",
    "            product = input(\"Enter the name of a product you want to order: \").strip().lower()\n",
    "            while product not in inventory:\n",
    "                raise ValueError\n",
    "            customer_orders.add(product)\n",
    "        \n",
    "            add = input(\"Do you want to order another product? (yes/no): \").strip().lower()\n",
    "            while add not in [\"yes\", \"no\"]:\n",
    "                print(\"Invalid input! Please answer 'yes' or 'no'.\")\n",
    "                add = input(\"Do you want to order another product? (yes/no): \").strip().lower()\n",
    "                \n",
    "            if add == \"no\":\n",
    "                print(\"\\nThank you for your order\")\n",
    "                break        \n",
    "       \n",
    "        except ValueError:\n",
    "            print(\"Invalid product! Please choose from:\", products)\n",
    "                        \n",
    "    return customer_orders, num_costumer_order\n",
    "    \n",
    "\n",
    "def update_inventory(customer_orders, inventory):\n",
    "    updated_inventory = {product: quantity - 1 if product in customer_orders else quantity for product, quantity in inventory.items()}\n",
    "    return updated_inventory\n",
    "        \n",
    "\n",
    "def calculate_order_statistics(customer_orders, products):\n",
    "    total_products_ordered = len(customer_orders)\n",
    "    percentage_ordered = (total_products_ordered / len(products)) * 100\n",
    "    return total_products_ordered, percentage_ordered\n",
    "\n",
    "def print_order_statistics(order_statistics):\n",
    "    total_products_ordered, percentage_ordered = order_statistics\n",
    "    print(\"\\nOrder Statistics:\")\n",
    "    print(\"Total Products Ordered:\", total_products_ordered)\n",
    "    print(\"Percentage of Products Ordered:\", percentage_ordered, \"%\")\n",
    "\n",
    "def update_inventory(customer_orders, inventory):\n",
    "    updated_inventory = {product: quantity - 1 if product in customer_orders else quantity for product, quantity in inventory.items()}\n",
    "    updated_inventory = {product: quantity for product, quantity in updated_inventory.items() if quantity > 0}\n",
    "    return updated_inventory\n",
    "\n",
    "def calc_total_price(customer_orders, num_customer_order):\n",
    "    valid_price_num = False\n",
    "    while not valid_price_num:\n",
    "        try:\n",
    "            price_dict = {}\n",
    "            for product in customer_orders:\n",
    "                price = float(input(f\"Enter the price of {product}: \"))\n",
    "                if price < 0:\n",
    "                    raise ValueError\n",
    "                price_dict[product] = price\n",
    "            valid_price_num = True\n",
    "        except ValueError:\n",
    "            print(\"Please enter a positive numerical value\")\n",
    "    \n",
    "    print(\"\\nCustomer orders number:\", num_customer_order)\n",
    "    print(price_dict)\n",
    "    total_price = sum(price_dict.values())\n",
    "    print(\"Total price:\", total_price)\n",
    "    return total_price\n",
    "\n",
    "    \n",
    "def print_updated_inventory(inventory):\n",
    "    print(\"\\nUpdated Inventory:\")\n",
    "    for product, quantity in inventory.items():\n",
    "        print(product,\":\", quantity)\n",
    "    \n",
    "\n",
    "    \n",
    "inventory = initialize_inventory(products)\n",
    "customer_orders, num_costumer_order = get_customer_orders(inventory)\n",
    "total_price = calc_total_price(customer_orders, num_costumer_order)\n",
    "updated_inventory = update_inventory(customer_orders, inventory)\n",
    "order_statistics = calculate_order_statistics(customer_orders, products)\n",
    "print_order_statistics(order_statistics)\n",
    "print_updated_inventory(updated_inventory)\n"
   ]
  },
  {
   "cell_type": "code",
   "execution_count": null,
   "id": "02855e28-4564-474a-8d6d-59210cef0985",
   "metadata": {},
   "outputs": [],
   "source": []
  }
 ],
 "metadata": {
  "kernelspec": {
   "display_name": "Python 3 (ipykernel)",
   "language": "python",
   "name": "python3"
  },
  "language_info": {
   "codemirror_mode": {
    "name": "ipython",
    "version": 3
   },
   "file_extension": ".py",
   "mimetype": "text/x-python",
   "name": "python",
   "nbconvert_exporter": "python",
   "pygments_lexer": "ipython3",
   "version": "3.11.7"
  }
 },
 "nbformat": 4,
 "nbformat_minor": 5
}
